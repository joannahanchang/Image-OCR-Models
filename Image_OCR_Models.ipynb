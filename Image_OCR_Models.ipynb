{
  "nbformat": 4,
  "nbformat_minor": 0,
  "metadata": {
    "colab": {
      "name": "Image OCR Models.ipynb",
      "provenance": [],
      "collapsed_sections": []
    },
    "kernelspec": {
      "display_name": "Python 3",
      "name": "python3"
    }
  },
  "cells": [
    {
      "cell_type": "code",
      "metadata": {
        "id": "76Y4RFAINNv7"
      },
      "source": [
        "GOOGLE_COLAB = True"
      ],
      "execution_count": 1,
      "outputs": []
    },
    {
      "cell_type": "markdown",
      "metadata": {
        "id": "Odi5IJ6rPtWs"
      },
      "source": [
        "**Install Tesseract**"
      ]
    },
    {
      "cell_type": "code",
      "metadata": {
        "id": "aI1Ex7f4Pd-3",
        "colab": {
          "base_uri": "https://localhost:8080/"
        },
        "outputId": "3d3b3306-313e-4334-d60d-1a71139eb0e9"
      },
      "source": [
        "!sudo apt-get install libpng-dev libjpeg-dev libtiff-dev zlib1g-dev  \n",
        "!sudo apt-get install gcc g++  \n",
        "!sudo apt-get install autoconf automake libtool checkinstall  "
      ],
      "execution_count": 2,
      "outputs": [
        {
          "output_type": "stream",
          "text": [
            "Reading package lists... Done\n",
            "Building dependency tree       \n",
            "Reading state information... Done\n",
            "libjpeg-dev is already the newest version (8c-2ubuntu8).\n",
            "libjpeg-dev set to manually installed.\n",
            "zlib1g-dev is already the newest version (1:1.2.11.dfsg-0ubuntu2).\n",
            "zlib1g-dev set to manually installed.\n",
            "libpng-dev is already the newest version (1.6.34-1ubuntu0.18.04.2).\n",
            "libtiff-dev is already the newest version (4.0.9-5ubuntu0.3).\n",
            "libtiff-dev set to manually installed.\n",
            "0 upgraded, 0 newly installed, 0 to remove and 15 not upgraded.\n",
            "Reading package lists... Done\n",
            "Building dependency tree       \n",
            "Reading state information... Done\n",
            "g++ is already the newest version (4:7.4.0-1ubuntu2.3).\n",
            "g++ set to manually installed.\n",
            "gcc is already the newest version (4:7.4.0-1ubuntu2.3).\n",
            "gcc set to manually installed.\n",
            "0 upgraded, 0 newly installed, 0 to remove and 15 not upgraded.\n",
            "Reading package lists... Done\n",
            "Building dependency tree       \n",
            "Reading state information... Done\n",
            "The following additional packages will be installed:\n",
            "  autotools-dev file libmagic-mgc libmagic1 libsigsegv2 m4\n",
            "Suggested packages:\n",
            "  autoconf-archive gnu-standards autoconf-doc gettext libtool-doc gcj-jdk\n",
            "  m4-doc\n",
            "The following NEW packages will be installed:\n",
            "  autoconf automake autotools-dev checkinstall file libmagic-mgc libmagic1\n",
            "  libsigsegv2 libtool m4\n",
            "0 upgraded, 10 newly installed, 0 to remove and 15 not upgraded.\n",
            "Need to get 1,648 kB of archives.\n",
            "After this operation, 11.0 MB of additional disk space will be used.\n",
            "Get:1 http://archive.ubuntu.com/ubuntu bionic-updates/main amd64 libmagic-mgc amd64 1:5.32-2ubuntu0.4 [184 kB]\n",
            "Get:2 http://archive.ubuntu.com/ubuntu bionic-updates/main amd64 libmagic1 amd64 1:5.32-2ubuntu0.4 [68.6 kB]\n",
            "Get:3 http://archive.ubuntu.com/ubuntu bionic-updates/main amd64 file amd64 1:5.32-2ubuntu0.4 [22.1 kB]\n",
            "Get:4 http://archive.ubuntu.com/ubuntu bionic/main amd64 libsigsegv2 amd64 2.12-1 [14.7 kB]\n",
            "Get:5 http://archive.ubuntu.com/ubuntu bionic/main amd64 m4 amd64 1.4.18-1 [197 kB]\n",
            "Get:6 http://archive.ubuntu.com/ubuntu bionic/main amd64 autoconf all 2.69-11 [322 kB]\n",
            "Get:7 http://archive.ubuntu.com/ubuntu bionic/main amd64 autotools-dev all 20180224.1 [39.6 kB]\n",
            "Get:8 http://archive.ubuntu.com/ubuntu bionic/main amd64 automake all 1:1.15.1-3ubuntu2 [509 kB]\n",
            "Get:9 http://archive.ubuntu.com/ubuntu bionic/universe amd64 checkinstall amd64 1.6.2-4ubuntu2 [97.1 kB]\n",
            "Get:10 http://archive.ubuntu.com/ubuntu bionic/main amd64 libtool all 2.4.6-2 [194 kB]\n",
            "Fetched 1,648 kB in 2s (1,081 kB/s)\n",
            "debconf: unable to initialize frontend: Dialog\n",
            "debconf: (No usable dialog-like program is installed, so the dialog based frontend cannot be used. at /usr/share/perl5/Debconf/FrontEnd/Dialog.pm line 76, <> line 10.)\n",
            "debconf: falling back to frontend: Readline\n",
            "debconf: unable to initialize frontend: Readline\n",
            "debconf: (This frontend requires a controlling tty.)\n",
            "debconf: falling back to frontend: Teletype\n",
            "dpkg-preconfigure: unable to re-open stdin: \n",
            "Selecting previously unselected package libmagic-mgc.\n",
            "(Reading database ... 145480 files and directories currently installed.)\n",
            "Preparing to unpack .../0-libmagic-mgc_1%3a5.32-2ubuntu0.4_amd64.deb ...\n",
            "Unpacking libmagic-mgc (1:5.32-2ubuntu0.4) ...\n",
            "Selecting previously unselected package libmagic1:amd64.\n",
            "Preparing to unpack .../1-libmagic1_1%3a5.32-2ubuntu0.4_amd64.deb ...\n",
            "Unpacking libmagic1:amd64 (1:5.32-2ubuntu0.4) ...\n",
            "Selecting previously unselected package file.\n",
            "Preparing to unpack .../2-file_1%3a5.32-2ubuntu0.4_amd64.deb ...\n",
            "Unpacking file (1:5.32-2ubuntu0.4) ...\n",
            "Selecting previously unselected package libsigsegv2:amd64.\n",
            "Preparing to unpack .../3-libsigsegv2_2.12-1_amd64.deb ...\n",
            "Unpacking libsigsegv2:amd64 (2.12-1) ...\n",
            "Selecting previously unselected package m4.\n",
            "Preparing to unpack .../4-m4_1.4.18-1_amd64.deb ...\n",
            "Unpacking m4 (1.4.18-1) ...\n",
            "Selecting previously unselected package autoconf.\n",
            "Preparing to unpack .../5-autoconf_2.69-11_all.deb ...\n",
            "Unpacking autoconf (2.69-11) ...\n",
            "Selecting previously unselected package autotools-dev.\n",
            "Preparing to unpack .../6-autotools-dev_20180224.1_all.deb ...\n",
            "Unpacking autotools-dev (20180224.1) ...\n",
            "Selecting previously unselected package automake.\n",
            "Preparing to unpack .../7-automake_1%3a1.15.1-3ubuntu2_all.deb ...\n",
            "Unpacking automake (1:1.15.1-3ubuntu2) ...\n",
            "Selecting previously unselected package checkinstall.\n",
            "Preparing to unpack .../8-checkinstall_1.6.2-4ubuntu2_amd64.deb ...\n",
            "Unpacking checkinstall (1.6.2-4ubuntu2) ...\n",
            "Selecting previously unselected package libtool.\n",
            "Preparing to unpack .../9-libtool_2.4.6-2_all.deb ...\n",
            "Unpacking libtool (2.4.6-2) ...\n",
            "Setting up libsigsegv2:amd64 (2.12-1) ...\n",
            "Setting up m4 (1.4.18-1) ...\n",
            "Setting up libmagic-mgc (1:5.32-2ubuntu0.4) ...\n",
            "Setting up libmagic1:amd64 (1:5.32-2ubuntu0.4) ...\n",
            "Setting up autotools-dev (20180224.1) ...\n",
            "Setting up autoconf (2.69-11) ...\n",
            "Setting up file (1:5.32-2ubuntu0.4) ...\n",
            "Setting up automake (1:1.15.1-3ubuntu2) ...\n",
            "update-alternatives: using /usr/bin/automake-1.15 to provide /usr/bin/automake (automake) in auto mode\n",
            "Setting up checkinstall (1.6.2-4ubuntu2) ...\n",
            "Setting up libtool (2.4.6-2) ...\n",
            "Processing triggers for man-db (2.8.3-2ubuntu0.1) ...\n",
            "Processing triggers for libc-bin (2.27-3ubuntu1.2) ...\n",
            "/sbin/ldconfig.real: /usr/local/lib/python3.6/dist-packages/ideep4py/lib/libmkldnn.so.0 is not a symbolic link\n",
            "\n"
          ],
          "name": "stdout"
        }
      ]
    },
    {
      "cell_type": "markdown",
      "metadata": {
        "id": "MSJaiX_9P20a"
      },
      "source": [
        "**Need image processing toolkit Leptonica to build Tesseract**"
      ]
    },
    {
      "cell_type": "code",
      "metadata": {
        "colab": {
          "base_uri": "https://localhost:8080/"
        },
        "id": "iuoM-InOP7o2",
        "outputId": "cb53e828-d80a-4bf4-ec42-1a1f30786a09"
      },
      "source": [
        "!cd ~  \n",
        "!wget http://www.leptonica.org/source/leptonica-1.73.tar.gz  \n",
        "!tar -zxvf leptonica-1.73.tar.gz  \n",
        "!cd leptonica-1.73  \n",
        "!./configure  \n",
        "!make  \n",
        "!sudo checkinstall  \n",
        "!sudo ldconfig  \n",
        "\n",
        "!sudo apt-get install tesseract-ocr  "
      ],
      "execution_count": 3,
      "outputs": [
        {
          "output_type": "stream",
          "text": [
            "--2021-01-01 03:56:41--  http://www.leptonica.org/source/leptonica-1.73.tar.gz\n",
            "Resolving www.leptonica.org (www.leptonica.org)... 208.67.207.65\n",
            "Connecting to www.leptonica.org (www.leptonica.org)|208.67.207.65|:80... connected.\n",
            "HTTP request sent, awaiting response... 404 Not Found\n",
            "2021-01-01 03:56:41 ERROR 404: Not Found.\n",
            "\n",
            "tar (child): leptonica-1.73.tar.gz: Cannot open: No such file or directory\n",
            "tar (child): Error is not recoverable: exiting now\n",
            "tar: Child returned status 2\n",
            "tar: Error is not recoverable: exiting now\n",
            "/bin/bash: line 0: cd: leptonica-1.73: No such file or directory\n",
            "/bin/bash: ./configure: No such file or directory\n",
            "make: *** No targets specified and no makefile found.  Stop.\n",
            "\n",
            "checkinstall 1.6.2, Copyright 2009 Felipe Eduardo Sanchez Diaz Duran\n",
            "           This software is released under the GNU GPL.\n",
            "\n",
            "\n",
            "The package documentation directory ./doc-pak does not exist. \n",
            "Should I create a default set of package docs?  [y]: y\n",
            "\n",
            "Preparing package documentation...OK\n",
            "\n",
            "*** No known documentation files were found. The new package \n",
            "*** won't include a documentation directory.\n",
            "\n",
            "Please write a description for the package.\n",
            "End your description with an empty line or EOF.\n",
            ">> \n",
            "\n",
            "*****************************************\n",
            "**** Debian package creation selected ***\n",
            "*****************************************\n",
            "\n",
            "This package will be built according to these values: \n",
            "\n",
            "0 -  Maintainer: [ root@893de9879977 ]\n",
            "1 -  Summary: [ Package created with checkinstall 1.6.2 ]\n",
            "2 -  Name:    [ content ]\n",
            "3 -  Version: [ 20210101 ]\n",
            "4 -  Release: [ 1 ]\n",
            "5 -  License: [ GPL ]\n",
            "6 -  Group:   [ checkinstall ]\n",
            "7 -  Architecture: [ amd64 ]\n",
            "8 -  Source location: [ content ]\n",
            "9 -  Alternate source location: [  ]\n",
            "10 - Requires: [  ]\n",
            "11 - Provides: [ content ]\n",
            "12 - Conflicts: [  ]\n",
            "13 - Replaces: [  ]\n",
            "\n",
            "Enter a number to change any of them or press ENTER to continue: \n",
            "\n",
            "Installing with make install...\n",
            "\n",
            "========================= Installation results ===========================\n",
            "make: *** No rule to make target 'install'.  Stop.\n",
            "\n",
            "****  Installation failed. Aborting package creation.\n",
            "\n",
            "Cleaning up...OK\n",
            "\n",
            "Bye.\n",
            "\n",
            "/sbin/ldconfig.real: /usr/local/lib/python3.6/dist-packages/ideep4py/lib/libmkldnn.so.0 is not a symbolic link\n",
            "\n",
            "Reading package lists... Done\n",
            "Building dependency tree       \n",
            "Reading state information... Done\n",
            "The following additional packages will be installed:\n",
            "  tesseract-ocr-eng tesseract-ocr-osd\n",
            "The following NEW packages will be installed:\n",
            "  tesseract-ocr tesseract-ocr-eng tesseract-ocr-osd\n",
            "0 upgraded, 3 newly installed, 0 to remove and 15 not upgraded.\n",
            "Need to get 4,795 kB of archives.\n",
            "After this operation, 15.8 MB of additional disk space will be used.\n",
            "Get:1 http://archive.ubuntu.com/ubuntu bionic/universe amd64 tesseract-ocr-eng all 4.00~git24-0e00fe6-1.2 [1,588 kB]\n",
            "Get:2 http://archive.ubuntu.com/ubuntu bionic/universe amd64 tesseract-ocr-osd all 4.00~git24-0e00fe6-1.2 [2,989 kB]\n",
            "Get:3 http://archive.ubuntu.com/ubuntu bionic/universe amd64 tesseract-ocr amd64 4.00~git2288-10f4998a-2 [218 kB]\n",
            "Fetched 4,795 kB in 2s (2,850 kB/s)\n",
            "debconf: unable to initialize frontend: Dialog\n",
            "debconf: (No usable dialog-like program is installed, so the dialog based frontend cannot be used. at /usr/share/perl5/Debconf/FrontEnd/Dialog.pm line 76, <> line 3.)\n",
            "debconf: falling back to frontend: Readline\n",
            "debconf: unable to initialize frontend: Readline\n",
            "debconf: (This frontend requires a controlling tty.)\n",
            "debconf: falling back to frontend: Teletype\n",
            "dpkg-preconfigure: unable to re-open stdin: \n",
            "Selecting previously unselected package tesseract-ocr-eng.\n",
            "(Reading database ... 145854 files and directories currently installed.)\n",
            "Preparing to unpack .../tesseract-ocr-eng_4.00~git24-0e00fe6-1.2_all.deb ...\n",
            "Unpacking tesseract-ocr-eng (4.00~git24-0e00fe6-1.2) ...\n",
            "Selecting previously unselected package tesseract-ocr-osd.\n",
            "Preparing to unpack .../tesseract-ocr-osd_4.00~git24-0e00fe6-1.2_all.deb ...\n",
            "Unpacking tesseract-ocr-osd (4.00~git24-0e00fe6-1.2) ...\n",
            "Selecting previously unselected package tesseract-ocr.\n",
            "Preparing to unpack .../tesseract-ocr_4.00~git2288-10f4998a-2_amd64.deb ...\n",
            "Unpacking tesseract-ocr (4.00~git2288-10f4998a-2) ...\n",
            "Setting up tesseract-ocr-osd (4.00~git24-0e00fe6-1.2) ...\n",
            "Setting up tesseract-ocr-eng (4.00~git24-0e00fe6-1.2) ...\n",
            "Setting up tesseract-ocr (4.00~git2288-10f4998a-2) ...\n",
            "Processing triggers for man-db (2.8.3-2ubuntu0.1) ...\n"
          ],
          "name": "stdout"
        }
      ]
    },
    {
      "cell_type": "markdown",
      "metadata": {
        "id": "Rbkk1YToR-_D"
      },
      "source": [
        "**Tesseract usage**"
      ]
    },
    {
      "cell_type": "code",
      "metadata": {
        "colab": {
          "base_uri": "https://localhost:8080/"
        },
        "id": "p3XWRXJ3SDvu",
        "outputId": "cda8b748-1804-41e5-dd6e-1429175012e7"
      },
      "source": [
        "!tesseract --help "
      ],
      "execution_count": 4,
      "outputs": [
        {
          "output_type": "stream",
          "text": [
            "Usage:\n",
            "  tesseract --help | --help-extra | --version\n",
            "  tesseract --list-langs\n",
            "  tesseract imagename outputbase [options...] [configfile...]\n",
            "\n",
            "OCR options:\n",
            "  -l LANG[+LANG]        Specify language(s) used for OCR.\n",
            "NOTE: These options must occur before any configfile.\n",
            "\n",
            "Single options:\n",
            "  --help                Show this help message.\n",
            "  --help-extra          Show extra help for advanced users.\n",
            "  --version             Show version information.\n",
            "  --list-langs          List available languages for tesseract engine.\n"
          ],
          "name": "stdout"
        }
      ]
    },
    {
      "cell_type": "markdown",
      "metadata": {
        "id": "89UMSbJ4S6Cc"
      },
      "source": [
        "**List available languages for Tesseract engine**"
      ]
    },
    {
      "cell_type": "code",
      "metadata": {
        "colab": {
          "base_uri": "https://localhost:8080/"
        },
        "id": "rsJOy5KUS-EY",
        "outputId": "55e185ac-4803-4e6f-885c-d57f836b4990"
      },
      "source": [
        "!sudo tesseract --list-langs "
      ],
      "execution_count": 5,
      "outputs": [
        {
          "output_type": "stream",
          "text": [
            "List of available languages (2):\n",
            "osd\n",
            "eng\n"
          ],
          "name": "stdout"
        }
      ]
    },
    {
      "cell_type": "markdown",
      "metadata": {
        "id": "55k0asR5TAbs"
      },
      "source": [
        "**Install Thai package & List available languages for Tesseract engine**"
      ]
    },
    {
      "cell_type": "code",
      "metadata": {
        "colab": {
          "base_uri": "https://localhost:8080/"
        },
        "id": "1BWSFCNOTC_h",
        "outputId": "57d72768-35ed-4e79-c488-2746b6f3bc77"
      },
      "source": [
        "!sudo apt-get install tesseract-ocr-tha"
      ],
      "execution_count": 6,
      "outputs": [
        {
          "output_type": "stream",
          "text": [
            "Reading package lists... Done\n",
            "Building dependency tree       \n",
            "Reading state information... Done\n",
            "The following NEW packages will be installed:\n",
            "  tesseract-ocr-tha\n",
            "0 upgraded, 1 newly installed, 0 to remove and 15 not upgraded.\n",
            "Need to get 898 kB of archives.\n",
            "After this operation, 1,087 kB of additional disk space will be used.\n",
            "Get:1 http://archive.ubuntu.com/ubuntu bionic/universe amd64 tesseract-ocr-tha all 4.00~git24-0e00fe6-1.2 [898 kB]\n",
            "Fetched 898 kB in 1s (734 kB/s)\n",
            "debconf: unable to initialize frontend: Dialog\n",
            "debconf: (No usable dialog-like program is installed, so the dialog based frontend cannot be used. at /usr/share/perl5/Debconf/FrontEnd/Dialog.pm line 76, <> line 1.)\n",
            "debconf: falling back to frontend: Readline\n",
            "debconf: unable to initialize frontend: Readline\n",
            "debconf: (This frontend requires a controlling tty.)\n",
            "debconf: falling back to frontend: Teletype\n",
            "dpkg-preconfigure: unable to re-open stdin: \n",
            "Selecting previously unselected package tesseract-ocr-tha.\n",
            "(Reading database ... 145901 files and directories currently installed.)\n",
            "Preparing to unpack .../tesseract-ocr-tha_4.00~git24-0e00fe6-1.2_all.deb ...\n",
            "Unpacking tesseract-ocr-tha (4.00~git24-0e00fe6-1.2) ...\n",
            "Setting up tesseract-ocr-tha (4.00~git24-0e00fe6-1.2) ...\n"
          ],
          "name": "stdout"
        }
      ]
    },
    {
      "cell_type": "code",
      "metadata": {
        "colab": {
          "base_uri": "https://localhost:8080/"
        },
        "id": "dsUPE3lILwkW",
        "outputId": "946b0c94-165f-46bb-fed5-273fa005ad18"
      },
      "source": [
        "!sudo tesseract --list-langs  "
      ],
      "execution_count": 7,
      "outputs": [
        {
          "output_type": "stream",
          "text": [
            "List of available languages (3):\n",
            "osd\n",
            "eng\n",
            "tha\n"
          ],
          "name": "stdout"
        }
      ]
    },
    {
      "cell_type": "markdown",
      "metadata": {
        "id": "gZQdfaghTo9e"
      },
      "source": [
        "**Using Python and Tesserect**"
      ]
    },
    {
      "cell_type": "code",
      "metadata": {
        "colab": {
          "base_uri": "https://localhost:8080/"
        },
        "id": "J18iUdicTqql",
        "outputId": "e766231a-8b3e-47b8-e10a-f25af98a7cf2"
      },
      "source": [
        "!sudo pip install pytesseract"
      ],
      "execution_count": 8,
      "outputs": [
        {
          "output_type": "stream",
          "text": [
            "Collecting pytesseract\n",
            "  Downloading https://files.pythonhosted.org/packages/a0/e6/a4e9fc8a93c1318540e8de6d8d4beb5749b7960388a7c7f27799fc2dd016/pytesseract-0.3.7.tar.gz\n",
            "Requirement already satisfied: Pillow in /usr/local/lib/python3.6/dist-packages (from pytesseract) (7.0.0)\n",
            "Building wheels for collected packages: pytesseract\n",
            "  Building wheel for pytesseract (setup.py) ... \u001b[?25l\u001b[?25hdone\n",
            "  Created wheel for pytesseract: filename=pytesseract-0.3.7-py2.py3-none-any.whl size=13945 sha256=a6e122c74f466ba2e258e943df63e014f6fd409dd7b76cc69ccc62901b464c89\n",
            "  Stored in directory: /root/.cache/pip/wheels/81/20/7e/1dd0daad1575d5260916bb1e9781246430647adaef4b3ca3b3\n",
            "Successfully built pytesseract\n",
            "Installing collected packages: pytesseract\n",
            "Successfully installed pytesseract-0.3.7\n"
          ],
          "name": "stdout"
        }
      ]
    },
    {
      "cell_type": "markdown",
      "metadata": {
        "id": "6eTND1rMVKA-"
      },
      "source": [
        "**Python program**"
      ]
    },
    {
      "cell_type": "code",
      "metadata": {
        "id": "cLeyhOxUVNsf"
      },
      "source": [
        "from PIL import Image\n",
        "import pytesseract"
      ],
      "execution_count": 9,
      "outputs": []
    },
    {
      "cell_type": "code",
      "metadata": {
        "colab": {
          "base_uri": "https://localhost:8080/"
        },
        "id": "aCN4HsEDWwVR",
        "outputId": "6f7fd178-1cd3-434f-8df6-b94d0110aef5"
      },
      "source": [
        "from google.colab import drive\n",
        "drive.mount('/content/drive/')"
      ],
      "execution_count": 10,
      "outputs": [
        {
          "output_type": "stream",
          "text": [
            "Mounted at /content/drive/\n"
          ],
          "name": "stdout"
        }
      ]
    },
    {
      "cell_type": "markdown",
      "metadata": {
        "id": "_D0hQxcOc9qL"
      },
      "source": [
        "**Open/read an image**"
      ]
    },
    {
      "cell_type": "code",
      "metadata": {
        "id": "QNyaNZOJCrc6"
      },
      "source": [
        "img_path = '/content/drive/My Drive/Colab Notebooks2/Images/XXXX.jpg'\n",
        "Image.open(img_path)"
      ],
      "execution_count": null,
      "outputs": []
    },
    {
      "cell_type": "markdown",
      "metadata": {
        "id": "AOtKfCUncOXn"
      },
      "source": [
        "**image_to_string - Returns unmodified output as string from Tesseract OCR processing**"
      ]
    },
    {
      "cell_type": "code",
      "metadata": {
        "id": "q-kfpDZEcTcb"
      },
      "source": [
        "txtImg = Image.open(img_path)\n",
        "text = pytesseract.image_to_string(txtImg, 'tha')\n",
        "\n",
        "print (text)"
      ],
      "execution_count": null,
      "outputs": []
    },
    {
      "cell_type": "markdown",
      "metadata": {
        "id": "Ep7ToDSBxBav"
      },
      "source": [
        "**image_to_boxes - Returns result containing recognized characters and their box boundaries**"
      ]
    },
    {
      "cell_type": "code",
      "metadata": {
        "id": "3lXEdT2wvwr3"
      },
      "source": [
        "txtImg = Image.open(img_path)\r\n",
        "text = pytesseract.image_to_boxes(txtImg, 'tha')\r\n",
        "\r\n",
        "print (text)"
      ],
      "execution_count": null,
      "outputs": []
    },
    {
      "cell_type": "markdown",
      "metadata": {
        "id": "6jAUyJNL8Z10"
      },
      "source": [
        "**image_to_data - Returns result containing box boundaries, confidences, and other information**"
      ]
    },
    {
      "cell_type": "code",
      "metadata": {
        "id": "xU_qo3o88nix"
      },
      "source": [
        "txtImg = Image.open(img_path)\r\n",
        "text = pytesseract.image_to_data(txtImg, 'tha')\r\n",
        "\r\n",
        "print (text)"
      ],
      "execution_count": null,
      "outputs": []
    },
    {
      "cell_type": "markdown",
      "metadata": {
        "id": "NRfj-pmlKYPA"
      },
      "source": [
        "**image_to_osd - Returns result containing information about orientation and script detection**"
      ]
    },
    {
      "cell_type": "code",
      "metadata": {
        "id": "kxqGKZKqKfGc"
      },
      "source": [
        "txtImg = Image.open(img_path)\r\n",
        "text = pytesseract.image_to_osd(txtImg)\r\n",
        "\r\n",
        "print (text)"
      ],
      "execution_count": null,
      "outputs": []
    },
    {
      "cell_type": "markdown",
      "metadata": {
        "id": "kqp1H6t7U6gI"
      },
      "source": [
        "**Get HOCR output**"
      ]
    },
    {
      "cell_type": "code",
      "metadata": {
        "id": "WOyUG0_ZUZjA"
      },
      "source": [
        "txtImg = Image.open(img_path)\r\n",
        "hocr = pytesseract.image_to_pdf_or_hocr(txtImg, extension='hocr')\r\n",
        "\r\n",
        "print (text)"
      ],
      "execution_count": null,
      "outputs": []
    },
    {
      "cell_type": "markdown",
      "metadata": {
        "id": "Yy4KsnscLG8t"
      },
      "source": [
        "**Get ALTO (Analyzed Layout and Text Object) XML output, image_to_alto_xml - Returns result in the form of Tesseract’s ALTO XML format**"
      ]
    },
    {
      "cell_type": "code",
      "metadata": {
        "id": "72AYsNPgS0y-"
      },
      "source": [
        "txtImg = Image.open(img_path)\r\n",
        "xml = pytesseract.image_to_alto_xmlt(txtImg)\r\n",
        "\r\n",
        "print (text)"
      ],
      "execution_count": null,
      "outputs": []
    }
  ]
}